{
  "nbformat": 4,
  "nbformat_minor": 0,
  "metadata": {
    "colab": {
      "provenance": [],
      "authorship_tag": "ABX9TyP3igKbNZFtAQItfkaQTbJJ",
      "include_colab_link": true
    },
    "kernelspec": {
      "name": "python3",
      "display_name": "Python 3"
    },
    "language_info": {
      "name": "python"
    }
  },
  "cells": [
    {
      "cell_type": "markdown",
      "metadata": {
        "id": "view-in-github",
        "colab_type": "text"
      },
      "source": [
        "<a href=\"https://colab.research.google.com/github/reyfdz/Probabilidad-y-estadisitica-de-datos/blob/main/Clase4.ipynb\" target=\"_parent\"><img src=\"https://colab.research.google.com/assets/colab-badge.svg\" alt=\"Open In Colab\"/></a>"
      ]
    },
    {
      "cell_type": "code",
      "execution_count": null,
      "metadata": {
        "id": "Ea_LFaVRuXbM"
      },
      "outputs": [],
      "source": []
    },
    {
      "cell_type": "markdown",
      "source": [
        "- Experimento aleatorio: Lanzar dos dados honesto.\n",
        "- El evento: la suma de los dados es $n$.\n"
      ],
      "metadata": {
        "id": "gsn_wiSOuckG"
      }
    },
    {
      "cell_type": "code",
      "source": [
        "from itertools import product\n",
        "\n",
        "Omega=set(product([1,2,3,4,5,6], repeat = 2))\n",
        "\n",
        "len(Omega)"
      ],
      "metadata": {
        "colab": {
          "base_uri": "https://localhost:8080/"
        },
        "id": "37_C05Apu0Of",
        "outputId": "6a404364-c391-4bd5-93a3-3698baf6c6af"
      },
      "execution_count": null,
      "outputs": [
        {
          "output_type": "execute_result",
          "data": {
            "text/plain": [
              "36"
            ]
          },
          "metadata": {},
          "execution_count": 32
        }
      ]
    },
    {
      "cell_type": "code",
      "source": [
        "Omega"
      ],
      "metadata": {
        "colab": {
          "base_uri": "https://localhost:8080/"
        },
        "id": "j4Uz355wvIPf",
        "outputId": "c5969d6e-18dd-4475-8f85-775688571b6f"
      },
      "execution_count": null,
      "outputs": [
        {
          "output_type": "execute_result",
          "data": {
            "text/plain": [
              "{(1, 1),\n",
              " (1, 2),\n",
              " (1, 3),\n",
              " (1, 4),\n",
              " (1, 5),\n",
              " (1, 6),\n",
              " (2, 1),\n",
              " (2, 2),\n",
              " (2, 3),\n",
              " (2, 4),\n",
              " (2, 5),\n",
              " (2, 6),\n",
              " (3, 1),\n",
              " (3, 2),\n",
              " (3, 3),\n",
              " (3, 4),\n",
              " (3, 5),\n",
              " (3, 6),\n",
              " (4, 1),\n",
              " (4, 2),\n",
              " (4, 3),\n",
              " (4, 4),\n",
              " (4, 5),\n",
              " (4, 6),\n",
              " (5, 1),\n",
              " (5, 2),\n",
              " (5, 3),\n",
              " (5, 4),\n",
              " (5, 5),\n",
              " (5, 6),\n",
              " (6, 1),\n",
              " (6, 2),\n",
              " (6, 3),\n",
              " (6, 4),\n",
              " (6, 5),\n",
              " (6, 6)}"
            ]
          },
          "metadata": {},
          "execution_count": 33
        }
      ]
    },
    {
      "cell_type": "code",
      "source": [
        "S = {omega for omega in Omega if omega[0]+omega[1]==2}\n",
        "S"
      ],
      "metadata": {
        "colab": {
          "base_uri": "https://localhost:8080/"
        },
        "id": "E6rayEsZvtoo",
        "outputId": "e095ebb8-abaa-46b5-ec93-54daf2144002"
      },
      "execution_count": null,
      "outputs": [
        {
          "output_type": "execute_result",
          "data": {
            "text/plain": [
              "{(1, 1)}"
            ]
          },
          "metadata": {},
          "execution_count": 34
        }
      ]
    },
    {
      "cell_type": "code",
      "source": [
        "# Vamos a crear una función global\n",
        "\n",
        "def S(n):\n",
        "  S={omega for omega in Omega if omega[0]+ omega[1]==n}\n",
        "  return S"
      ],
      "metadata": {
        "id": "HaQm3visxXfg"
      },
      "execution_count": null,
      "outputs": []
    },
    {
      "cell_type": "code",
      "source": [
        "S(6)"
      ],
      "metadata": {
        "colab": {
          "base_uri": "https://localhost:8080/"
        },
        "id": "qaI4l2gHx0vg",
        "outputId": "5b7d8dbd-65b5-490a-c219-71f88f913215"
      },
      "execution_count": null,
      "outputs": [
        {
          "output_type": "execute_result",
          "data": {
            "text/plain": [
              "{(1, 5), (2, 4), (3, 3), (4, 2), (5, 1)}"
            ]
          },
          "metadata": {},
          "execution_count": 36
        }
      ]
    },
    {
      "cell_type": "code",
      "source": [
        "[print(S(n)) for n in range(2,13)]"
      ],
      "metadata": {
        "colab": {
          "base_uri": "https://localhost:8080/"
        },
        "id": "igBG6jBMyNiG",
        "outputId": "82390dcb-d7e9-407e-de91-678ed100aff0"
      },
      "execution_count": null,
      "outputs": [
        {
          "output_type": "stream",
          "name": "stdout",
          "text": [
            "{(1, 1)}\n",
            "{(1, 2), (2, 1)}\n",
            "{(1, 3), (3, 1), (2, 2)}\n",
            "{(3, 2), (4, 1), (1, 4), (2, 3)}\n",
            "{(5, 1), (3, 3), (1, 5), (4, 2), (2, 4)}\n",
            "{(6, 1), (1, 6), (4, 3), (3, 4), (2, 5), (5, 2)}\n",
            "{(3, 5), (2, 6), (4, 4), (6, 2), (5, 3)}\n",
            "{(6, 3), (5, 4), (4, 5), (3, 6)}\n",
            "{(6, 4), (4, 6), (5, 5)}\n",
            "{(5, 6), (6, 5)}\n",
            "{(6, 6)}\n"
          ]
        },
        {
          "output_type": "execute_result",
          "data": {
            "text/plain": [
              "[None, None, None, None, None, None, None, None, None, None, None]"
            ]
          },
          "metadata": {},
          "execution_count": 37
        }
      ]
    },
    {
      "cell_type": "markdown",
      "source": [
        "# Vamos a crear una función global que calcula la probablidad de cada evento"
      ],
      "metadata": {
        "id": "2yWoSNGBzG4_"
      }
    },
    {
      "cell_type": "code",
      "source": [
        "def p(A):\n",
        "  p = len(A)/len(Omega)\n",
        "  return p"
      ],
      "metadata": {
        "id": "npppPD0EzXK1"
      },
      "execution_count": null,
      "outputs": []
    },
    {
      "cell_type": "code",
      "source": [
        "p(S(3))"
      ],
      "metadata": {
        "colab": {
          "base_uri": "https://localhost:8080/"
        },
        "id": "tg9P549nzoaE",
        "outputId": "9ea7694e-3cc5-49a7-ce14-e06d26b56dc7"
      },
      "execution_count": null,
      "outputs": [
        {
          "output_type": "execute_result",
          "data": {
            "text/plain": [
              "0.05555555555555555"
            ]
          },
          "metadata": {},
          "execution_count": 39
        }
      ]
    },
    {
      "cell_type": "code",
      "source": [
        "d = {omega[0]+Omega[1] : P(S(2))}\n",
        "    omega[0]+omega[1] : P(S(n)) for n in range(2,13) for omega in Omega}"
      ],
      "metadata": {
        "colab": {
          "base_uri": "https://localhost:8080/",
          "height": 130
        },
        "id": "-5UFXPESz0z1",
        "outputId": "04991fbe-e58e-4235-c67e-5143cac4e2f5"
      },
      "execution_count": null,
      "outputs": [
        {
          "output_type": "error",
          "ename": "IndentationError",
          "evalue": "ignored",
          "traceback": [
            "\u001b[0;36m  File \u001b[0;32m\"<ipython-input-41-8a50490c4f81>\"\u001b[0;36m, line \u001b[0;32m2\u001b[0m\n\u001b[0;31m    omega[0]+omega[1] : P(S(n)) for n in range(2,13) for omega in Omega}\u001b[0m\n\u001b[0m    ^\u001b[0m\n\u001b[0;31mIndentationError\u001b[0m\u001b[0;31m:\u001b[0m unexpected indent\n"
          ]
        }
      ]
    },
    {
      "cell_type": "code",
      "source": [
        "d = {omega[0]+omega[1] : p(S(2))}"
      ],
      "metadata": {
        "id": "79vuBef410wz"
      },
      "execution_count": null,
      "outputs": []
    },
    {
      "cell_type": "code",
      "source": [
        "from fractions import Fraction\n",
        "def P(A, On):\n",
        "  p = Fraction(len(A), len(On))\n",
        "  return p"
      ],
      "metadata": {
        "id": "gwojokwL4WH0"
      },
      "execution_count": null,
      "outputs": []
    },
    {
      "cell_type": "code",
      "source": [
        "S = {(omega[0], omega[1]) : omega[0]+omega[1] for omega in Omega}\n",
        "S"
      ],
      "metadata": {
        "colab": {
          "base_uri": "https://localhost:8080/"
        },
        "id": "EWKFTBou3ZH_",
        "outputId": "4e61d435-4a3a-4f0a-99da-c9f89f24575e"
      },
      "execution_count": null,
      "outputs": [
        {
          "output_type": "execute_result",
          "data": {
            "text/plain": [
              "{(1, 3): 4,\n",
              " (6, 6): 12,\n",
              " (5, 6): 11,\n",
              " (2, 1): 3,\n",
              " (6, 2): 8,\n",
              " (1, 6): 7,\n",
              " (5, 1): 6,\n",
              " (2, 5): 7,\n",
              " (1, 2): 3,\n",
              " (3, 3): 6,\n",
              " (5, 5): 10,\n",
              " (4, 4): 8,\n",
              " (6, 3): 9,\n",
              " (1, 5): 6,\n",
              " (3, 6): 9,\n",
              " (2, 2): 4,\n",
              " (4, 1): 5,\n",
              " (1, 1): 2,\n",
              " (6, 4): 10,\n",
              " (3, 2): 5,\n",
              " (2, 6): 8,\n",
              " (5, 4): 9,\n",
              " (4, 5): 9,\n",
              " (5, 2): 7,\n",
              " (1, 4): 5,\n",
              " (2, 3): 5,\n",
              " (4, 2): 6,\n",
              " (6, 5): 11,\n",
              " (3, 5): 8,\n",
              " (5, 3): 8,\n",
              " (4, 6): 10,\n",
              " (6, 1): 7,\n",
              " (3, 1): 4,\n",
              " (4, 3): 7,\n",
              " (3, 4): 7,\n",
              " (2, 4): 6}"
            ]
          },
          "metadata": {},
          "execution_count": 44
        }
      ]
    },
    {
      "cell_type": "code",
      "source": [
        "S.items()"
      ],
      "metadata": {
        "colab": {
          "base_uri": "https://localhost:8080/"
        },
        "id": "HuDnuV4O66Dh",
        "outputId": "8f73c586-a4ca-4cee-907f-5634c4cdf147"
      },
      "execution_count": null,
      "outputs": [
        {
          "output_type": "execute_result",
          "data": {
            "text/plain": [
              "dict_items([((1, 3), 4), ((6, 6), 12), ((5, 6), 11), ((2, 1), 3), ((6, 2), 8), ((1, 6), 7), ((5, 1), 6), ((2, 5), 7), ((1, 2), 3), ((3, 3), 6), ((5, 5), 10), ((4, 4), 8), ((6, 3), 9), ((1, 5), 6), ((3, 6), 9), ((2, 2), 4), ((4, 1), 5), ((1, 1), 2), ((6, 4), 10), ((3, 2), 5), ((2, 6), 8), ((5, 4), 9), ((4, 5), 9), ((5, 2), 7), ((1, 4), 5), ((2, 3), 5), ((4, 2), 6), ((6, 5), 11), ((3, 5), 8), ((5, 3), 8), ((4, 6), 10), ((6, 1), 7), ((3, 1), 4), ((4, 3), 7), ((3, 4), 7), ((2, 4), 6)])"
            ]
          },
          "metadata": {},
          "execution_count": 46
        }
      ]
    },
    {
      "cell_type": "code",
      "source": [
        "from collections import defaultdict\n",
        "dS = defaultdict(set)\n",
        "for i, j in S.items():\n",
        "  dS[j].add(i)"
      ],
      "metadata": {
        "id": "xjeN7uTh5CaD"
      },
      "execution_count": null,
      "outputs": []
    },
    {
      "cell_type": "code",
      "source": [
        "dS"
      ],
      "metadata": {
        "colab": {
          "base_uri": "https://localhost:8080/"
        },
        "id": "2IQXO-Au7ZEr",
        "outputId": "bc1978a7-28be-495c-f9e5-22114679bfbe"
      },
      "execution_count": null,
      "outputs": [
        {
          "output_type": "execute_result",
          "data": {
            "text/plain": [
              "defaultdict(set,\n",
              "            {4: {(1, 3), (2, 2), (3, 1)},\n",
              "             12: {(6, 6)},\n",
              "             11: {(5, 6), (6, 5)},\n",
              "             3: {(1, 2), (2, 1)},\n",
              "             8: {(2, 6), (3, 5), (4, 4), (5, 3), (6, 2)},\n",
              "             7: {(1, 6), (2, 5), (3, 4), (4, 3), (5, 2), (6, 1)},\n",
              "             6: {(1, 5), (2, 4), (3, 3), (4, 2), (5, 1)},\n",
              "             10: {(4, 6), (5, 5), (6, 4)},\n",
              "             9: {(3, 6), (4, 5), (5, 4), (6, 3)},\n",
              "             5: {(1, 4), (2, 3), (3, 2), (4, 1)},\n",
              "             2: {(1, 1)}})"
            ]
          },
          "metadata": {},
          "execution_count": 52
        }
      ]
    },
    {
      "cell_type": "code",
      "source": [
        "Densidad_S = {i : P(A, Omega) for i, A in dS.items() }\n",
        "Densidad_S"
      ],
      "metadata": {
        "colab": {
          "base_uri": "https://localhost:8080/"
        },
        "id": "HDQD4Ycv7a-s",
        "outputId": "6a2bcffb-a523-4183-830d-b68bea583249"
      },
      "execution_count": null,
      "outputs": [
        {
          "output_type": "execute_result",
          "data": {
            "text/plain": [
              "{4: Fraction(1, 12),\n",
              " 12: Fraction(1, 36),\n",
              " 11: Fraction(1, 18),\n",
              " 3: Fraction(1, 18),\n",
              " 8: Fraction(5, 36),\n",
              " 7: Fraction(1, 6),\n",
              " 6: Fraction(5, 36),\n",
              " 10: Fraction(1, 12),\n",
              " 9: Fraction(1, 9),\n",
              " 5: Fraction(1, 9),\n",
              " 2: Fraction(1, 36)}"
            ]
          },
          "metadata": {},
          "execution_count": 58
        }
      ]
    }
  ]
}